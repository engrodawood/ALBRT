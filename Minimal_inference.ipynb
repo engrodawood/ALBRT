{
 "cells": [
  {
   "cell_type": "code",
   "execution_count": 1,
   "id": "77ac18b3",
   "metadata": {},
   "outputs": [],
   "source": [
    "from scipy.optimize import curve_fit\n",
    "def calibration(x, a, b, c,d):\n",
    "    x0 = x\n",
    "\n",
    "    fout = np.exp(a*(x0)+b)+c\n",
    "    fout = np.minimum(np.ones(x.shape)*100*d,fout)\n",
    "    return np.maximum(np.zeros(x.shape),fout)"
   ]
  },
  {
   "cell_type": "code",
   "execution_count": 2,
   "id": "b18fbf79",
   "metadata": {},
   "outputs": [
    {
     "name": "stdout",
     "output_type": "stream",
     "text": [
      "INFO:tensorflow:Enabling eager execution\n",
      "INFO:tensorflow:Enabling v2 tensorshape\n",
      "INFO:tensorflow:Enabling resource variables\n",
      "INFO:tensorflow:Enabling tensor equality\n",
      "INFO:tensorflow:Enabling control flow v2\n",
      "Number of test example (827, 256, 256, 3) (827, 4)\n"
     ]
    },
    {
     "name": "stderr",
     "output_type": "stream",
     "text": [
      "/home/dawood/.conda/envs/pt/lib/python3.8/site-packages/scipy/optimize/minpack.py:828: OptimizeWarning: Covariance of the parameters could not be estimated\n",
      "  warnings.warn('Covariance of the parameters could not be estimated',\n"
     ]
    },
    {
     "name": "stdout",
     "output_type": "stream",
     "text": [
      "                   MAE   Pearson  Spearman        R2     AUROC\n",
      "Neuoplatic    1.839836  0.963455  0.948151  0.928242  0.982120\n",
      "Inflammatory  1.104013  0.935073  0.776273  0.874247  0.884890\n",
      "Connective    1.664299  0.840770  0.855906  0.706887  0.928787\n",
      "Epithelial    0.961783  0.975269  0.941927  0.951149  0.992653\n",
      "Number of test example (749, 256, 256, 3) (749, 4)\n"
     ]
    },
    {
     "name": "stderr",
     "output_type": "stream",
     "text": [
      "/home/dawood/.conda/envs/pt/lib/python3.8/site-packages/scipy/optimize/minpack.py:828: OptimizeWarning: Covariance of the parameters could not be estimated\n",
      "  warnings.warn('Covariance of the parameters could not be estimated',\n"
     ]
    },
    {
     "name": "stdout",
     "output_type": "stream",
     "text": [
      "                   MAE   Pearson  Spearman        R2     AUROC\n",
      "Neuoplatic    1.660397  0.970749  0.933341  0.942353  0.977790\n",
      "Inflammatory  1.083041  0.945395  0.787624  0.893365  0.892082\n",
      "Connective    1.707437  0.837058  0.852068  0.700656  0.937933\n",
      "Epithelial    1.156610  0.968181  0.893327  0.937373  0.989675\n",
      "Number of test example (775, 256, 256, 3) (775, 4)\n",
      "                   MAE   Pearson  Spearman        R2     AUROC\n",
      "Neuoplatic    1.847145  0.961373  0.938676  0.924238  0.979866\n",
      "Inflammatory  1.040612  0.934387  0.755250  0.873078  0.867140\n",
      "Connective    1.771188  0.804549  0.840724  0.647298  0.939635\n",
      "Epithelial    1.125041  0.972401  0.945055  0.945564  0.996457\n"
     ]
    },
    {
     "name": "stderr",
     "output_type": "stream",
     "text": [
      "/home/dawood/.conda/envs/pt/lib/python3.8/site-packages/scipy/optimize/minpack.py:828: OptimizeWarning: Covariance of the parameters could not be estimated\n",
      "  warnings.warn('Covariance of the parameters could not be estimated',\n",
      "/home/dawood/.conda/envs/pt/lib/python3.8/site-packages/scipy/optimize/minpack.py:828: OptimizeWarning: Covariance of the parameters could not be estimated\n",
      "  warnings.warn('Covariance of the parameters could not be estimated',\n"
     ]
    }
   ],
   "source": [
    "import pandas as pd\n",
    "import numpy as np\n",
    "cols = [0,1,2,4]#,4,5]\n",
    "folds=4\n",
    "nbranches=5\n",
    "cells_list = ['Neuoplatic',\"Inflammatory\",\"Connective\",\"Epithelial\"]\n",
    "metric = ['MAE',\"Pearson\",\"Spearman\",\"R2\",\"AUROC\"]\n",
    "R = np.random.random(size=(folds-1,len(cols),len(metric)))\n",
    "table = pd.DataFrame()\n",
    "vpath = 'BRCA_val/fold_'\n",
    "tpath = 'BRCA_train/fold_'\n",
    "\n",
    "TAG = 'ALBRT_PanNuke'\n",
    "\n",
    "from keras.applications.xception import Xception\n",
    "import tensorflow as tf\n",
    "from keras.models import Model, load_model\n",
    "from keras.layers.core import Dense\n",
    "from keras.layers.pooling import GlobalAveragePooling2D\n",
    "from keras.optimizer_v2.adam import Adam\n",
    "import keras\n",
    "from scipy.stats import pearsonr,spearmanr\n",
    "from sklearn.metrics import r2_score,mean_absolute_error\n",
    "from sklearn import metrics\n",
    "import matplotlib.pyplot as plt\n",
    "\n",
    "\n",
    "for fold in range(1,folds):\n",
    "    Xtr,Ytr=np.array([]),np.array([])\n",
    "    Xts,Yts = np.array([]),np.array([])\n",
    "    import gc;gc.collect()\n",
    "    F = np.load(vpath+str(fold)+'.npz')\n",
    "    if Yts.size==0:\n",
    "        Xts,Yts = F['X'],F['Y'][:,0,cols]\n",
    "    else:\n",
    "        Xts,Yts = np.vstack((Xts,F['X'])),np.vstack((Yts,F['Y']))\n",
    "\n",
    "    Xts,Yts = Xts.astype('float32')*255.0,Yts.astype('float32')\n",
    "\n",
    "    print(\"Number of test example\",Xts.shape, Yts.shape)\n",
    "\n",
    "    base_model = Xception(\n",
    "        include_top = False,\n",
    "        weights = \"imagenet\",\n",
    "        input_shape = None\n",
    "    )\n",
    "\n",
    "    x = base_model.output\n",
    "    x = GlobalAveragePooling2D(name='pool')(x)\n",
    "    x = Dense(1024,name='fc1')(x)\n",
    "    branches = [Dense(len(cols),name='T'+str(i))(x) for i in range(nbranches)]\n",
    "\n",
    "    class CustomModel(keras.Model):\n",
    "        pass\n",
    "    \n",
    "    model = CustomModel(base_model.input, branches)\n",
    "    model.compile(\n",
    "        optimizer = Adam()\n",
    "    )\n",
    "    \n",
    "    model.load_weights('weights/weights_'+TAG+str(fold)+'.hdf5')\n",
    "\n",
    "    Ypred=model.predict(Xts)\n",
    "    results = []\n",
    "    for j in range(len(cols)):\n",
    "        target = Yts[:,j]; pred = Ypred[0][:, j];\n",
    "        tc = target.copy()\n",
    "        tc[tc<=0]=0\n",
    "        tc[tc>0]=1\n",
    "        fpr, tpr, thresholds = metrics.roc_curve(tc, pred, pos_label=1) #, metrics.auc(tc, pred)]\n",
    "        popt, pcov = curve_fit(calibration, pred, target, maxfev=50000)\n",
    "        fout = calibration(pred, *popt)\n",
    "        results.append(\n",
    "            [mean_absolute_error(target, fout),pearsonr(target,fout)[0],spearmanr(target, fout)[0],\n",
    "             r2_score(target,fout),metrics.auc(fpr, tpr)]\n",
    "           )\n",
    "    table = pd.DataFrame(results)\n",
    "    R[fold-1] = results\n",
    "    table.columns = metric\n",
    "    table.index = cells_list\n",
    "    print(table)\n",
    "\n",
    "Rf = table.copy()\n",
    "Rm = R.mean(axis=0)\n",
    "Rstd = R.std(axis=0)\n",
    "\n",
    "for i in range(table.shape[0]):\n",
    "    for j in range(table.shape[1]):\n",
    "        Rf.iloc[i,j] = str(np.round(Rm[i,j],2)) +\" (\"+ str(np.round(Rstd[i,j],2))+\")\"\n"
   ]
  },
  {
   "cell_type": "code",
   "execution_count": 3,
   "id": "aae1d81a",
   "metadata": {},
   "outputs": [
    {
     "data": {
      "text/html": [
       "<div>\n",
       "<style scoped>\n",
       "    .dataframe tbody tr th:only-of-type {\n",
       "        vertical-align: middle;\n",
       "    }\n",
       "\n",
       "    .dataframe tbody tr th {\n",
       "        vertical-align: top;\n",
       "    }\n",
       "\n",
       "    .dataframe thead th {\n",
       "        text-align: right;\n",
       "    }\n",
       "</style>\n",
       "<table border=\"1\" class=\"dataframe\">\n",
       "  <thead>\n",
       "    <tr style=\"text-align: right;\">\n",
       "      <th></th>\n",
       "      <th>MAE</th>\n",
       "      <th>Pearson</th>\n",
       "      <th>Spearman</th>\n",
       "      <th>R2</th>\n",
       "      <th>AUROC</th>\n",
       "    </tr>\n",
       "  </thead>\n",
       "  <tbody>\n",
       "    <tr>\n",
       "      <th>Neuoplatic</th>\n",
       "      <td>1.78 (0.09)</td>\n",
       "      <td>0.97 (0.0)</td>\n",
       "      <td>0.94 (0.01)</td>\n",
       "      <td>0.93 (0.01)</td>\n",
       "      <td>0.98 (0.0)</td>\n",
       "    </tr>\n",
       "    <tr>\n",
       "      <th>Inflammatory</th>\n",
       "      <td>1.08 (0.03)</td>\n",
       "      <td>0.94 (0.01)</td>\n",
       "      <td>0.77 (0.01)</td>\n",
       "      <td>0.88 (0.01)</td>\n",
       "      <td>0.88 (0.01)</td>\n",
       "    </tr>\n",
       "    <tr>\n",
       "      <th>Connective</th>\n",
       "      <td>1.71 (0.04)</td>\n",
       "      <td>0.83 (0.02)</td>\n",
       "      <td>0.85 (0.01)</td>\n",
       "      <td>0.68 (0.03)</td>\n",
       "      <td>0.94 (0.0)</td>\n",
       "    </tr>\n",
       "    <tr>\n",
       "      <th>Epithelial</th>\n",
       "      <td>1.08 (0.09)</td>\n",
       "      <td>0.97 (0.0)</td>\n",
       "      <td>0.93 (0.02)</td>\n",
       "      <td>0.94 (0.01)</td>\n",
       "      <td>0.99 (0.0)</td>\n",
       "    </tr>\n",
       "  </tbody>\n",
       "</table>\n",
       "</div>"
      ],
      "text/plain": [
       "                      MAE      Pearson     Spearman           R2        AUROC\n",
       "Neuoplatic    1.78 (0.09)   0.97 (0.0)  0.94 (0.01)  0.93 (0.01)   0.98 (0.0)\n",
       "Inflammatory  1.08 (0.03)  0.94 (0.01)  0.77 (0.01)  0.88 (0.01)  0.88 (0.01)\n",
       "Connective    1.71 (0.04)  0.83 (0.02)  0.85 (0.01)  0.68 (0.03)   0.94 (0.0)\n",
       "Epithelial    1.08 (0.09)   0.97 (0.0)  0.93 (0.02)  0.94 (0.01)   0.99 (0.0)"
      ]
     },
     "execution_count": 3,
     "metadata": {},
     "output_type": "execute_result"
    }
   ],
   "source": [
    "Rf   "
   ]
  },
  {
   "cell_type": "code",
   "execution_count": null,
   "id": "7002c2a7",
   "metadata": {},
   "outputs": [],
   "source": []
  }
 ],
 "metadata": {
  "kernelspec": {
   "display_name": "Python 3",
   "language": "python",
   "name": "python3"
  },
  "language_info": {
   "codemirror_mode": {
    "name": "ipython",
    "version": 3
   },
   "file_extension": ".py",
   "mimetype": "text/x-python",
   "name": "python",
   "nbconvert_exporter": "python",
   "pygments_lexer": "ipython3",
   "version": "3.8.8"
  }
 },
 "nbformat": 4,
 "nbformat_minor": 5
}
